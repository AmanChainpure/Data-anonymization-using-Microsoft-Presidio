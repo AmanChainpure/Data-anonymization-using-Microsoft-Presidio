{
  "nbformat": 4,
  "nbformat_minor": 0,
  "metadata": {
    "colab": {
      "provenance": []
    },
    "kernelspec": {
      "name": "python3",
      "display_name": "Python 3"
    },
    "language_info": {
      "name": "python"
    }
  },
  "cells": [
    {
      "cell_type": "code",
      "execution_count": 1,
      "metadata": {
        "id": "8rwJCsgrMbyT"
      },
      "outputs": [],
      "source": [
        "import warnings\n",
        "import logging\n",
        "warnings.filterwarnings(\"ignore\", module=\"presidio_analyzer\")\n",
        "logging.getLogger(\"presidio-analyzer\").setLevel(logging.ERROR)"
      ]
    },
    {
      "cell_type": "code",
      "source": [
        "!pip install --upgrade --quiet langchain langchain-openai langchain-experimental presidio-analyzer presidio-anonymizer spacy Faker"
      ],
      "metadata": {
        "colab": {
          "base_uri": "https://localhost:8080/"
        },
        "collapsed": true,
        "id": "LQ1Qfe2aMgBX",
        "outputId": "8d338a06-6164-4e39-fc4e-3682d328b3e6"
      },
      "execution_count": 2,
      "outputs": [
        {
          "output_type": "stream",
          "name": "stdout",
          "text": [
            "\u001b[?25l   \u001b[90m━━━━━━━━━━━━━━━━━━━━━━━━━━━━━━━━━━━━━━━━\u001b[0m \u001b[32m0.0/55.4 kB\u001b[0m \u001b[31m?\u001b[0m eta \u001b[36m-:--:--\u001b[0m\r\u001b[2K   \u001b[90m━━━━━━━━━━━━━━━━━━━━━━━━━━━━━━━━━━━━━━━━\u001b[0m \u001b[32m55.4/55.4 kB\u001b[0m \u001b[31m4.3 MB/s\u001b[0m eta \u001b[36m0:00:00\u001b[0m\n",
            "\u001b[?25h\u001b[?25l   \u001b[90m━━━━━━━━━━━━━━━━━━━━━━━━━━━━━━━━━━━━━━━━\u001b[0m \u001b[32m0.0/209.2 kB\u001b[0m \u001b[31m?\u001b[0m eta \u001b[36m-:--:--\u001b[0m\r\u001b[2K   \u001b[90m━━━━━━━━━━━━━━━━━━━━━━━━━━━━━━━━━━━━━━━━\u001b[0m \u001b[32m209.2/209.2 kB\u001b[0m \u001b[31m15.1 MB/s\u001b[0m eta \u001b[36m0:00:00\u001b[0m\n",
            "\u001b[2K   \u001b[90m━━━━━━━━━━━━━━━━━━━━━━━━━━━━━━━━━━━━━━━━\u001b[0m \u001b[32m112.3/112.3 kB\u001b[0m \u001b[31m9.1 MB/s\u001b[0m eta \u001b[36m0:00:00\u001b[0m\n",
            "\u001b[2K   \u001b[90m━━━━━━━━━━━━━━━━━━━━━━━━━━━━━━━━━━━━━━━━\u001b[0m \u001b[32m30.6/30.6 MB\u001b[0m \u001b[31m55.3 MB/s\u001b[0m eta \u001b[36m0:00:00\u001b[0m\n",
            "\u001b[2K   \u001b[90m━━━━━━━━━━━━━━━━━━━━━━━━━━━━━━━━━━━━━━━━\u001b[0m \u001b[32m1.9/1.9 MB\u001b[0m \u001b[31m65.3 MB/s\u001b[0m eta \u001b[36m0:00:00\u001b[0m\n",
            "\u001b[2K   \u001b[90m━━━━━━━━━━━━━━━━━━━━━━━━━━━━━━━━━━━━━━━━\u001b[0m \u001b[32m2.5/2.5 MB\u001b[0m \u001b[31m70.6 MB/s\u001b[0m eta \u001b[36m0:00:00\u001b[0m\n",
            "\u001b[2K   \u001b[90m━━━━━━━━━━━━━━━━━━━━━━━━━━━━━━━━━━━━━━━━\u001b[0m \u001b[32m2.6/2.6 MB\u001b[0m \u001b[31m78.3 MB/s\u001b[0m eta \u001b[36m0:00:00\u001b[0m\n",
            "\u001b[2K   \u001b[90m━━━━━━━━━━━━━━━━━━━━━━━━━━━━━━━━━━━━━━━━\u001b[0m \u001b[32m2.3/2.3 MB\u001b[0m \u001b[31m59.2 MB/s\u001b[0m eta \u001b[36m0:00:00\u001b[0m\n",
            "\u001b[2K   \u001b[90m━━━━━━━━━━━━━━━━━━━━━━━━━━━━━━━━━━━━━━━━\u001b[0m \u001b[32m3.9/3.9 MB\u001b[0m \u001b[31m77.4 MB/s\u001b[0m eta \u001b[36m0:00:00\u001b[0m\n",
            "\u001b[2K   \u001b[90m━━━━━━━━━━━━━━━━━━━━━━━━━━━━━━━━━━━━━━━━\u001b[0m \u001b[32m1.2/1.2 MB\u001b[0m \u001b[31m51.2 MB/s\u001b[0m eta \u001b[36m0:00:00\u001b[0m\n",
            "\u001b[2K   \u001b[90m━━━━━━━━━━━━━━━━━━━━━━━━━━━━━━━━━━━━━━━━\u001b[0m \u001b[32m198.9/198.9 kB\u001b[0m \u001b[31m9.9 MB/s\u001b[0m eta \u001b[36m0:00:00\u001b[0m\n",
            "\u001b[2K   \u001b[90m━━━━━━━━━━━━━━━━━━━━━━━━━━━━━━━━━━━━━━━━\u001b[0m \u001b[32m104.9/104.9 kB\u001b[0m \u001b[31m8.1 MB/s\u001b[0m eta \u001b[36m0:00:00\u001b[0m\n",
            "\u001b[2K   \u001b[90m━━━━━━━━━━━━━━━━━━━━━━━━━━━━━━━━━━━━━━━━\u001b[0m \u001b[32m11.7/11.7 MB\u001b[0m \u001b[31m63.8 MB/s\u001b[0m eta \u001b[36m0:00:00\u001b[0m\n",
            "\u001b[2K   \u001b[90m━━━━━━━━━━━━━━━━━━━━━━━━━━━━━━━━━━━━━━━━\u001b[0m \u001b[32m50.9/50.9 kB\u001b[0m \u001b[31m4.1 MB/s\u001b[0m eta \u001b[36m0:00:00\u001b[0m\n",
            "\u001b[?25h\u001b[31mERROR: pip's dependency resolver does not currently take into account all the packages that are installed. This behaviour is the source of the following dependency conflicts.\n",
            "en-core-web-sm 3.7.1 requires spacy<3.8.0,>=3.7.2, but you have spacy 3.8.4 which is incompatible.\u001b[0m\u001b[31m\n",
            "\u001b[0m"
          ]
        }
      ]
    },
    {
      "cell_type": "code",
      "source": [
        "from langchain_experimental.data_anonymizer import PresidioAnonymizer\n",
        "anonymizer = PresidioAnonymizer()\n",
        "anonymizer.anonymize(\n",
        "    \"My name is Denny Gosh, call me at 324-455-5634 or email me at danny.sh@gmail.com\"\n",
        ")"
      ],
      "metadata": {
        "colab": {
          "base_uri": "https://localhost:8080/",
          "height": 151
        },
        "id": "LvBzT-PzMgEO",
        "outputId": "106b671f-a171-4271-de72-18d19f478522"
      },
      "execution_count": 3,
      "outputs": [
        {
          "output_type": "stream",
          "name": "stdout",
          "text": [
            "\u001b[38;5;2m✔ Download and installation successful\u001b[0m\n",
            "You can now load the package via spacy.load('en_core_web_lg')\n",
            "\u001b[38;5;3m⚠ Restart to reload dependencies\u001b[0m\n",
            "If you are in a Jupyter or Colab notebook, you may need to restart Python in\n",
            "order to load all the package's dependencies. You can do this by selecting the\n",
            "'Restart kernel' or 'Restart runtime' option.\n"
          ]
        },
        {
          "output_type": "execute_result",
          "data": {
            "text/plain": [
              "'My name is Jeffrey Espinoza PhD, call me at 615-606-1968x196 or email me at qterrell@example.com'"
            ],
            "application/vnd.google.colaboratory.intrinsic+json": {
              "type": "string"
            }
          },
          "metadata": {},
          "execution_count": 3
        }
      ]
    },
    {
      "cell_type": "code",
      "source": [
        "from langchain_experimental.data_anonymizer import PresidioAnonymizer\n",
        "anonymizer = PresidioAnonymizer()\n",
        "anonymizer.anonymize(\n",
        "    \"My name is Denny Gosh, call me at 324-455-5634 and my repo number is 12434 and my email is real@Task.com\"\n",
        ")"
      ],
      "metadata": {
        "colab": {
          "base_uri": "https://localhost:8080/",
          "height": 36
        },
        "id": "XRi4UKhMMgJd",
        "outputId": "4a553156-0b19-4b7e-ea04-262ad3bddf07"
      },
      "execution_count": 4,
      "outputs": [
        {
          "output_type": "execute_result",
          "data": {
            "text/plain": [
              "'My name is Jocelyn Koch, call me at 001-879-287-9536x00260 and my repo number is 1998-01-11 and my email is danielstrickland@example.org'"
            ],
            "application/vnd.google.colaboratory.intrinsic+json": {
              "type": "string"
            }
          },
          "metadata": {},
          "execution_count": 4
        }
      ]
    },
    {
      "cell_type": "code",
      "source": [
        "from langchain_experimental.data_anonymizer import PresidioAnonymizer\n",
        "anonymizer = PresidioAnonymizer(analyzed_fields=[\"PERSON\"])\n",
        "anonymizer.anonymize(\n",
        "    \"My name is Denny Gosh, call me at 324-455-5634 or email me at danny.sh@gmail.com\"\n",
        ")"
      ],
      "metadata": {
        "colab": {
          "base_uri": "https://localhost:8080/",
          "height": 36
        },
        "id": "9ZnQYTPWMgG1",
        "outputId": "4aded6c1-976f-42aa-a091-76c37fdd3f7f"
      },
      "execution_count": 5,
      "outputs": [
        {
          "output_type": "execute_result",
          "data": {
            "text/plain": [
              "'My name is Omar Rogers, call me at 324-455-5634 or email me at danny.sh@gmail.com'"
            ],
            "application/vnd.google.colaboratory.intrinsic+json": {
              "type": "string"
            }
          },
          "metadata": {},
          "execution_count": 5
        }
      ]
    },
    {
      "cell_type": "code",
      "source": [
        "from faker import Faker\n",
        "\n",
        "fake = Faker(locale=\"en_US\")\n",
        "\n",
        "def fake_number(_: str = None) -> str:\n",
        "    return str(fake.random.randint(1000, 5000))\n",
        "\n",
        "from presidio_anonymizer.entities import OperatorConfig\n",
        "from presidio_analyzer import PatternRecognizer, Pattern\n",
        "from langchain_experimental.data_anonymizer import PresidioAnonymizer\n",
        "\n",
        "anonymizer = PresidioAnonymizer()\n",
        "\n",
        "repo_number_pattern = Pattern(\n",
        "    name=\"repo_number_pattern\",\n",
        "    regex=r\"(?<=\\D)\\d{5}(?=\\D)\",\n",
        "    score=1\n",
        ")\n",
        "\n",
        "repo_recognizer = PatternRecognizer(\n",
        "    supported_entity=\"REPO_NUMBER\",\n",
        "    patterns=[repo_number_pattern]\n",
        ")\n",
        "\n",
        "anonymizer.add_recognizer(repo_recognizer)\n",
        "\n",
        "new_operator = {\n",
        "    \"REPO_NUMBER\": OperatorConfig(\n",
        "        \"custom\", {\"lambda\": fake_number}\n",
        "    )\n",
        "}\n",
        "\n",
        "anonymizer.add_operators(new_operator)\n",
        "\n",
        "anonymized_text = anonymizer.anonymize(\n",
        "    \"My name is Denny Gosh, call me at 324-455-5634 and my repo number is 12434 and my email is real@Task.com\"\n",
        ")\n",
        "\n",
        "print(anonymized_text)\n"
      ],
      "metadata": {
        "colab": {
          "base_uri": "https://localhost:8080/"
        },
        "id": "0Kpn6BKfMgMF",
        "outputId": "4655aa84-7a42-4262-ea98-6393df59003b"
      },
      "execution_count": 6,
      "outputs": [
        {
          "output_type": "stream",
          "name": "stdout",
          "text": [
            "My name is Jared King, call me at 864-665-9453x620 and my repo number is 2848 and my email is vangjoshua@example.com\n"
          ]
        }
      ]
    },
    {
      "cell_type": "code",
      "source": [
        "from langchain_experimental.data_anonymizer import PresidioReversibleAnonymizer\n",
        "\n",
        "anonymizer = PresidioReversibleAnonymizer(\n",
        "    add_default_faker_operators=False\n",
        ")\n",
        "anonymized_text = anonymizer.anonymize(\n",
        "    \"My name is Denny Gosh, call me at 324-455-5634 and my repo number is 12434 and my email is real@Task.com\"\n",
        ")\n",
        "print(anonymized_text)"
      ],
      "metadata": {
        "colab": {
          "base_uri": "https://localhost:8080/"
        },
        "id": "3NqG6XqrMgO-",
        "outputId": "2d32b573-3b49-4777-ed95-677710d77175"
      },
      "execution_count": 7,
      "outputs": [
        {
          "output_type": "stream",
          "name": "stdout",
          "text": [
            "My name is <PERSON>, call me at <PHONE_NUMBER> and my repo number is <DATE_TIME> and my email is <EMAIL_ADDRESS>\n"
          ]
        }
      ]
    },
    {
      "cell_type": "code",
      "source": [],
      "metadata": {
        "id": "M1L_R2p6MgSG"
      },
      "execution_count": null,
      "outputs": []
    }
  ]
}