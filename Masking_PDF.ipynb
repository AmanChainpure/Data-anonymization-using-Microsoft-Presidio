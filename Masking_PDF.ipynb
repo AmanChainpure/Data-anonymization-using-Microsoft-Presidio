{
  "nbformat": 4,
  "nbformat_minor": 0,
  "metadata": {
    "colab": {
      "provenance": []
    },
    "kernelspec": {
      "name": "python3",
      "display_name": "Python 3"
    },
    "language_info": {
      "name": "python"
    }
  },
  "cells": [
    {
      "cell_type": "code",
      "execution_count": 1,
      "metadata": {
        "id": "hy9OTjoGmfO_"
      },
      "outputs": [],
      "source": [
        "import warnings\n",
        "import logging\n",
        "warnings.filterwarnings(\"ignore\", module=\"presidio_analyzer\")\n",
        "logging.getLogger(\"presidio-analyzer\").setLevel(logging.ERROR)"
      ]
    },
    {
      "cell_type": "code",
      "source": [
        "!pip install --upgrade --quiet langchain langchain-openai langchain-experimental presidio-analyzer presidio-anonymizer spacy Faker pypdf"
      ],
      "metadata": {
        "colab": {
          "base_uri": "https://localhost:8080/"
        },
        "id": "JKeVOBzam8LF",
        "outputId": "4a70ad51-0566-4b23-bcf9-851b4b4c8dbd"
      },
      "execution_count": 2,
      "outputs": [
        {
          "output_type": "stream",
          "name": "stdout",
          "text": [
            "\u001b[?25l   \u001b[90m━━━━━━━━━━━━━━━━━━━━━━━━━━━━━━━━━━━━━━━━\u001b[0m \u001b[32m0.0/60.9 kB\u001b[0m \u001b[31m?\u001b[0m eta \u001b[36m-:--:--\u001b[0m\r\u001b[2K   \u001b[90m━━━━━━━━━━━━━━━━━━━━━━━━━━━━━━━━━━━━━━━━\u001b[0m \u001b[32m60.9/60.9 kB\u001b[0m \u001b[31m2.8 MB/s\u001b[0m eta \u001b[36m0:00:00\u001b[0m\n",
            "\u001b[?25h\u001b[?25l   \u001b[90m━━━━━━━━━━━━━━━━━━━━━━━━━━━━━━━━━━━━━━━━\u001b[0m \u001b[32m0.0/209.2 kB\u001b[0m \u001b[31m?\u001b[0m eta \u001b[36m-:--:--\u001b[0m\r\u001b[2K   \u001b[90m━━━━━━━━━━━━━━━━━━━━━━━━━━━━━━━━━━━━━━━━\u001b[0m \u001b[32m209.2/209.2 kB\u001b[0m \u001b[31m8.1 MB/s\u001b[0m eta \u001b[36m0:00:00\u001b[0m\n",
            "\u001b[2K   \u001b[90m━━━━━━━━━━━━━━━━━━━━━━━━━━━━━━━━━━━━━━━━\u001b[0m \u001b[32m114.9/114.9 kB\u001b[0m \u001b[31m8.1 MB/s\u001b[0m eta \u001b[36m0:00:00\u001b[0m\n",
            "\u001b[2K   \u001b[90m━━━━━━━━━━━━━━━━━━━━━━━━━━━━━━━━━━━━━━━━\u001b[0m \u001b[32m1.9/1.9 MB\u001b[0m \u001b[31m39.1 MB/s\u001b[0m eta \u001b[36m0:00:00\u001b[0m\n",
            "\u001b[2K   \u001b[90m━━━━━━━━━━━━━━━━━━━━━━━━━━━━━━━━━━━━━━━━\u001b[0m \u001b[32m2.5/2.5 MB\u001b[0m \u001b[31m51.0 MB/s\u001b[0m eta \u001b[36m0:00:00\u001b[0m\n",
            "\u001b[2K   \u001b[90m━━━━━━━━━━━━━━━━━━━━━━━━━━━━━━━━━━━━━━━━\u001b[0m \u001b[32m415.9/415.9 kB\u001b[0m \u001b[31m23.5 MB/s\u001b[0m eta \u001b[36m0:00:00\u001b[0m\n",
            "\u001b[2K   \u001b[90m━━━━━━━━━━━━━━━━━━━━━━━━━━━━━━━━━━━━━━━━\u001b[0m \u001b[32m567.4/567.4 kB\u001b[0m \u001b[31m30.2 MB/s\u001b[0m eta \u001b[36m0:00:00\u001b[0m\n",
            "\u001b[2K   \u001b[90m━━━━━━━━━━━━━━━━━━━━━━━━━━━━━━━━━━━━━━━━\u001b[0m \u001b[32m2.6/2.6 MB\u001b[0m \u001b[31m71.5 MB/s\u001b[0m eta \u001b[36m0:00:00\u001b[0m\n",
            "\u001b[2K   \u001b[90m━━━━━━━━━━━━━━━━━━━━━━━━━━━━━━━━━━━━━━━━\u001b[0m \u001b[32m1.2/1.2 MB\u001b[0m \u001b[31m46.2 MB/s\u001b[0m eta \u001b[36m0:00:00\u001b[0m\n",
            "\u001b[2K   \u001b[90m━━━━━━━━━━━━━━━━━━━━━━━━━━━━━━━━━━━━━━━━\u001b[0m \u001b[32m104.9/104.9 kB\u001b[0m \u001b[31m7.4 MB/s\u001b[0m eta \u001b[36m0:00:00\u001b[0m\n",
            "\u001b[2K   \u001b[90m━━━━━━━━━━━━━━━━━━━━━━━━━━━━━━━━━━━━━━━━\u001b[0m \u001b[32m50.9/50.9 kB\u001b[0m \u001b[31m3.1 MB/s\u001b[0m eta \u001b[36m0:00:00\u001b[0m\n",
            "\u001b[?25h"
          ]
        }
      ]
    },
    {
      "cell_type": "markdown",
      "source": [
        "# Dummy data masking"
      ],
      "metadata": {
        "id": "M26_Vfv1qV3P"
      }
    },
    {
      "cell_type": "code",
      "source": [
        "from langchain_experimental.data_anonymizer import PresidioAnonymizer\n",
        "from langchain_community.document_loaders import PyPDFLoader\n",
        "\n",
        "# Initialize the PDF loader and the anonymizer\n",
        "file_path = r\"/content/PDF.pdf\"\n",
        "loader = PyPDFLoader(file_path)\n",
        "anonymizer = PresidioAnonymizer()\n",
        "\n",
        "def anonymize_page(page_number):\n",
        "    # Load the content of the specified page\n",
        "    docs = loader.load()\n",
        "    if page_number < 1 or page_number > len(docs):\n",
        "        return \"Page number out of range\"\n",
        "\n",
        "    page_content = docs[page_number - 1].page_content  # Adjusting page_number for zero-based index\n",
        "\n",
        "    # Anonymize the content\n",
        "    anonymized_content = anonymizer.anonymize(page_content)\n",
        "\n",
        "    return {\n",
        "        \"original_text\": page_content,\n",
        "        \"anonymized_text\": anonymized_content\n",
        "    }\n",
        "\n",
        "# Example usage\n",
        "page_number = 1  # Specify the page number you want to anonymize\n",
        "result = anonymize_page(page_number)\n",
        "print(\"Original Text:\\n\", result['original_text'])\n",
        "print(\"\\nAnonymized Text:\\n\", result['anonymized_text'])\n"
      ],
      "metadata": {
        "colab": {
          "base_uri": "https://localhost:8080/"
        },
        "id": "BvEY_Vhem8Sk",
        "outputId": "c0c4864e-62ea-45f8-d468-e02ad98ad4f4"
      },
      "execution_count": 8,
      "outputs": [
        {
          "output_type": "stream",
          "name": "stdout",
          "text": [
            "\u001b[38;5;2m✔ Download and installation successful\u001b[0m\n",
            "You can now load the package via spacy.load('en_core_web_lg')\n",
            "\u001b[38;5;3m⚠ Restart to reload dependencies\u001b[0m\n",
            "If you are in a Jupyter or Colab notebook, you may need to restart Python in\n",
            "order to load all the package's dependencies. You can do this by selecting the\n",
            "'Restart kernel' or 'Restart runtime' option.\n",
            "Original Text:\n",
            " ●  Website:  paraMeds.com  ●  Date:  01/09/25  ●  Case#:  34808777  ●  Submitted  on:  12/31/24  05:38PM  ●  Request  Sent  on:  01/02/25  03:34PM  ●  Received:  01/09/25  \n",
            "Client  Information:  \n",
            "●  Client:  LGA,  Tester  ●  Social  Security  #:  XXX-XX-XXX  ●  Date  of  Birth:  \n",
            "Order  Details:  \n",
            "●  Ordered  By:  Lga  Banner  Life,  Horizon  Underwriting  ●  Deliver  To:  Lga  Banner  Life,  Horizon  Underwriting  \n",
            "Insurance  Company:  \n",
            "●  Company:  Banner  Life  ●  Underwriter:  Lga  Banner  Life,  Horizon  Underwriting  \n",
            "Agency  Details:  \n",
            "●  Agency:  Policygenius  Llc,  Underwriting  ●  Agency  Code:  PC70000  ●  Agent:  \n",
            "Policy  Information:  \n",
            "●  Policy  Amount:  $100,000  ●  Policy  Type:  Life  Insurance  ●  Policy#:  5000910607  \n",
            "Service:  \n",
            "●  APS  -  Regular  from  Ryan  Laschober  1(254)  313-4200,  1600  Providence  Dr,  Waco,  TX  \n",
            "76707\n",
            " \n",
            "Special  Request:  \n",
            "●  Request:  Please  provide  all  records  for  the  last  3  years.\n",
            "\n",
            "Anonymized Text:\n",
            " ●  Website:  http://www.drake.com/  ●  1988-07-22:  2011-10-20  ●  Case#:  JSRB12137135474413  ●  Submitted  on:  2004-05-21  05:38PM  ●  Request  Sent  on:  2019-09-22  03:34PM  ●  Received:  2011-10-20  \n",
            "Client  Information:  \n",
            "●  Client:  LGA,  Tester  ●  Social  Security  #:  XXX-XX-XXX  ●  1988-07-22  of  Katherine Thomas:  \n",
            "Order  Details:  \n",
            "●  Ordered  By:  Lga  Banner  Life,  Horizon  Underwriting  ●  Deliver  To:  Lga  Banner  Life,  Horizon  Underwriting  \n",
            "Insurance  Company:  \n",
            "●  Company:  Banner  Life  ●  Underwriter:  Lga  Banner  Life,  Horizon  Underwriting  \n",
            "Agency  Details:  \n",
            "●  Agency:  Policygenius  Llc,  Underwriting  ●  Agency  Code:  101881875  ●  Agent:  \n",
            "Policy  Information:  \n",
            "●  Policy  Amount:  $100,000  ●  Policy  Type:  Life  Insurance  ●  Policy#:  1970-02-23  \n",
            "Service:  \n",
            "●  APS  -  Regular  from  Taylor Brown  Laschober  332-823-3902x647,  1600  Port Rebecca  Dr,  Lamton,  Angelachester  \n",
            "76707\n",
            " \n",
            "Special  Request:  \n",
            "●  Request:  Please  provide  all  records  for  the  last  1983-10-11.\n"
          ]
        }
      ]
    },
    {
      "cell_type": "markdown",
      "source": [
        "# Replacement with unique placeholders"
      ],
      "metadata": {
        "id": "lm8cZ08oqYv3"
      }
    },
    {
      "cell_type": "code",
      "source": [
        "from langchain_experimental.data_anonymizer import PresidioReversibleAnonymizer\n",
        "from langchain_community.document_loaders import PyPDFLoader\n",
        "\n",
        "# Initialize the PDF loader and the reversible anonymizer\n",
        "file_path = r\"/content/PDF.pdf\"\n",
        "loader = PyPDFLoader(file_path)\n",
        "anonymizer = PresidioReversibleAnonymizer(add_default_faker_operators=False)\n",
        "\n",
        "def anonymize_page(page_number):\n",
        "    # Load the content of the specified page\n",
        "    docs = loader.load()\n",
        "\n",
        "    if page_number < 1 or page_number > len(docs):\n",
        "        return \"Page number out of range\"\n",
        "\n",
        "    page_content = docs[page_number - 1].page_content  # Adjusting for zero-based index\n",
        "\n",
        "    # Anonymize the content\n",
        "    anonymized_content = anonymizer.anonymize(page_content)\n",
        "\n",
        "    return {\n",
        "        \"original_text\": page_content,\n",
        "        \"anonymized_text\": anonymized_content\n",
        "    }\n",
        "\n",
        "# Example usage\n",
        "page_number = 1  # Specify the page number you want to anonymize\n",
        "result = anonymize_page(page_number)\n",
        "\n",
        "# Print the original and anonymized text for the specified page\n",
        "print(\"Original Text:\\n\", result['original_text'])\n",
        "print(\"\\nAnonymized Text:\\n\", result['anonymized_text'])"
      ],
      "metadata": {
        "colab": {
          "base_uri": "https://localhost:8080/"
        },
        "id": "-nNTg_6Km8Vd",
        "outputId": "01749a87-99ae-474e-ef79-72453f5c358a"
      },
      "execution_count": 10,
      "outputs": [
        {
          "output_type": "stream",
          "name": "stdout",
          "text": [
            "Original Text:\n",
            " ●  Website:  paraMeds.com  ●  Date:  01/09/25  ●  Case#:  34808777  ●  Submitted  on:  12/31/24  05:38PM  ●  Request  Sent  on:  01/02/25  03:34PM  ●  Received:  01/09/25  \n",
            "Client  Information:  \n",
            "●  Client:  LGA,  Tester  ●  Social  Security  #:  XXX-XX-XXX  ●  Date  of  Birth:  \n",
            "Order  Details:  \n",
            "●  Ordered  By:  Lga  Banner  Life,  Horizon  Underwriting  ●  Deliver  To:  Lga  Banner  Life,  Horizon  Underwriting  \n",
            "Insurance  Company:  \n",
            "●  Company:  Banner  Life  ●  Underwriter:  Lga  Banner  Life,  Horizon  Underwriting  \n",
            "Agency  Details:  \n",
            "●  Agency:  Policygenius  Llc,  Underwriting  ●  Agency  Code:  PC70000  ●  Agent:  \n",
            "Policy  Information:  \n",
            "●  Policy  Amount:  $100,000  ●  Policy  Type:  Life  Insurance  ●  Policy#:  5000910607  \n",
            "Service:  \n",
            "●  APS  -  Regular  from  Ryan  Laschober  1(254)  313-4200,  1600  Providence  Dr,  Waco,  TX  \n",
            "76707\n",
            " \n",
            "Special  Request:  \n",
            "●  Request:  Please  provide  all  records  for  the  last  3  years.\n",
            "\n",
            "Anonymized Text:\n",
            " ●  Website:  <URL>  ●  <DATE_TIME_4>:  <DATE_TIME>  ●  Case#:  <US_BANK_NUMBER>  ●  Submitted  on:  <DATE_TIME_2>  05:38PM  ●  Request  Sent  on:  <DATE_TIME_3>  03:34PM  ●  Received:  <DATE_TIME>  \n",
            "Client  Information:  \n",
            "●  Client:  LGA,  Tester  ●  Social  Security  #:  XXX-XX-XXX  ●  <DATE_TIME_4>  of  <PERSON>:  \n",
            "Order  Details:  \n",
            "●  Ordered  By:  Lga  Banner  Life,  Horizon  Underwriting  ●  Deliver  To:  Lga  Banner  Life,  Horizon  Underwriting  \n",
            "Insurance  Company:  \n",
            "●  Company:  Banner  Life  ●  Underwriter:  Lga  Banner  Life,  Horizon  Underwriting  \n",
            "Agency  Details:  \n",
            "●  Agency:  Policygenius  Llc,  Underwriting  ●  Agency  Code:  <US_DRIVER_LICENSE>  ●  Agent:  \n",
            "Policy  Information:  \n",
            "●  Policy  Amount:  $100,000  ●  Policy  Type:  Life  Insurance  ●  Policy#:  <DATE_TIME_5>  \n",
            "Service:  \n",
            "●  APS  -  Regular  from  <PERSON_2>  Laschober  <PHONE_NUMBER>,  1600  <LOCATION>  Dr,  <LOCATION_2>,  <LOCATION_3>  \n",
            "76707\n",
            " \n",
            "Special  Request:  \n",
            "●  Request:  Please  provide  all  records  for  the  last  <DATE_TIME_6>.\n"
          ]
        }
      ]
    },
    {
      "cell_type": "code",
      "source": [],
      "metadata": {
        "id": "WYVKutRLqIej"
      },
      "execution_count": null,
      "outputs": []
    }
  ]
}