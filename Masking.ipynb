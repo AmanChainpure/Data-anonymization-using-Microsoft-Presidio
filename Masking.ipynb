{
  "nbformat": 4,
  "nbformat_minor": 0,
  "metadata": {
    "colab": {
      "provenance": []
    },
    "kernelspec": {
      "name": "python3",
      "display_name": "Python 3"
    },
    "language_info": {
      "name": "python"
    }
  },
  "cells": [
    {
      "cell_type": "code",
      "source": [
        "import warnings  # This module is used to control warning messages in Python\n",
        "import logging   # This module is used to log messages for debugging and tracking issues\n",
        "\n",
        "# Ignore specific warnings coming from the 'presidio_analyzer' module\n",
        "warnings.filterwarnings(\"ignore\", module=\"presidio_analyzer\")\n",
        "\n",
        "# Set the logging level of 'presidio-analyzer' to ERROR, so only critical errors are logged\n",
        "logging.getLogger(\"presidio-analyzer\").setLevel(logging.ERROR)"
      ],
      "metadata": {
        "id": "ZuTFmfIfIOyx"
      },
      "execution_count": 24,
      "outputs": []
    },
    {
      "cell_type": "code",
      "execution_count": 25,
      "metadata": {
        "collapsed": true,
        "id": "6UfuUraRBun4"
      },
      "outputs": [],
      "source": [
        "# Install required dependencies\n",
        "!pip install --upgrade --quiet langchain langchain-openai langchain-experimental presidio-analyzer presidio-anonymizer spacy Faker"
      ]
    },
    {
      "cell_type": "markdown",
      "source": [
        "  - !pip install: This command is used to install Python libraries.\n",
        "  The ! is needed in Jupyter Notebook to run shell commands.\n",
        "\n",
        "  - --upgrade: Ensures that the latest versions of the packages are installed.\n",
        "\n",
        "  - --quiet: Suppresses unnecessary installation messages to keep the output clean.\n",
        "\n",
        "Installed Libraries:\n",
        "\n",
        "    - langchain – A framework to build applications using large language models (LLMs).\n",
        "\n",
        "    - langchain-openai – Helps connect LangChain with OpenAI’s GPT models.\n",
        "\n",
        "    - langchain-experimental – Includes experimental features and tools for LangChain.\n",
        "\n",
        "    - presidio-analyzer – Detects sensitive information like names, addresses, or credit card numbers in text.\n",
        "\n",
        "    - presidio-anonymizer – Hides or replaces sensitive data detected by presidio-analyzer.\n",
        "\n",
        "    - spacy – A popular library for natural language processing (NLP), useful for working with text data.\n",
        "\n",
        "    - Faker – Generates fake names, addresses, and other data for testing purposes."
      ],
      "metadata": {
        "id": "58Dxw9vuJ16H"
      }
    },
    {
      "cell_type": "code",
      "source": [
        "# Importing the required module for anonymization\n",
        "from langchain_experimental.data_anonymizer import PresidioAnonymizer\n",
        "\n",
        "# Initialize the anonymizer\n",
        "anonymizer = PresidioAnonymizer()\n",
        "\n",
        "# Anonymize a sample text containing personal information\n",
        "anonymizer.anonymize(\n",
        "    \"My name is Denny Gosh, call me at 324-455-5634 or email me at danny.sh@gmail.com\"\n",
        ")"
      ],
      "metadata": {
        "colab": {
          "base_uri": "https://localhost:8080/",
          "height": 36
        },
        "id": "oycQ9PoBB0PD",
        "outputId": "60a22670-955b-44dc-ca07-30ab062d7c4c"
      },
      "execution_count": 26,
      "outputs": [
        {
          "output_type": "execute_result",
          "data": {
            "text/plain": [
              "'My name is Erica Butler, call me at +1-734-200-4375x199 or email me at summer59@example.com'"
            ],
            "application/vnd.google.colaboratory.intrinsic+json": {
              "type": "string"
            }
          },
          "metadata": {},
          "execution_count": 26
        }
      ]
    },
    {
      "cell_type": "markdown",
      "source": [
        "\n",
        "Importing the Anonymizer\n",
        "\n",
        "    PresidioAnonymizer is a tool that helps in hiding sensitive personal information like names, phone numbers, and email addresses.\n",
        "    \n",
        "Initializing the Anonymizer\n",
        "\n",
        "    We create an anonymizer object using PresidioAnonymizer(). This object will process and mask personal data from text.\n",
        "\n",
        "Anonymizing a Sample Text\n",
        "\n",
        "    The anonymizer.anonymize(...) function scans the given text and replaces any personal details (like name, phone number, and email) with anonymized placeholders."
      ],
      "metadata": {
        "id": "njN49bUUKc58"
      }
    },
    {
      "cell_type": "code",
      "source": [
        "# Importing the required module for anonymization\n",
        "from langchain_experimental.data_anonymizer import PresidioAnonymizer\n",
        "\n",
        "# Initialize the anonymizer without specifying any particular data type\n",
        "anonymizer = PresidioAnonymizer()\n",
        "\n",
        "# Anonymizing all detected sensitive data types\n",
        "anonymizer.anonymize(\n",
        "    \"My name is Denny Gosh, call me at 324-455-5634 and my repo number is 12434 and my email is real@Task.com\"\n",
        ")\n"
      ],
      "metadata": {
        "colab": {
          "base_uri": "https://localhost:8080/",
          "height": 36
        },
        "id": "egujlIBcNofA",
        "outputId": "b5839e6a-7124-472e-8e46-d326da652ec8"
      },
      "execution_count": 27,
      "outputs": [
        {
          "output_type": "execute_result",
          "data": {
            "text/plain": [
              "'My name is Joseph Macias, call me at 682-504-0191x643 and my repo number is 1995-06-30 and my email is gparker@example.net'"
            ],
            "application/vnd.google.colaboratory.intrinsic+json": {
              "type": "string"
            }
          },
          "metadata": {},
          "execution_count": 27
        }
      ]
    },
    {
      "cell_type": "markdown",
      "source": [
        "Default Anonymization (No Specific Data Type Specified)\n",
        "\n",
        "    Since we did not specify any analyzed_fields, the anonymizer will automatically detect and anonymize all sensitive information.\n",
        "    This includes names, phone numbers, email addresses, and possibly other structured data like account numbers.\n",
        "    What Happens to the Text?\n",
        "\n",
        "The anonymizer.anonymize(...) function scans the input text for any personal or sensitive information and replaces it with placeholders."
      ],
      "metadata": {
        "id": "VmCfPaGwLKwc"
      }
    },
    {
      "cell_type": "code",
      "source": [
        "# Importing the required module for anonymization\n",
        "from langchain_experimental.data_anonymizer import PresidioAnonymizer\n",
        "\n",
        "# Initialize the anonymizer to only anonymize PERSON names\n",
        "anonymizer = PresidioAnonymizer(analyzed_fields=[\"PERSON\"])\n",
        "\n",
        "# Anonymizing only names (not phone numbers or email addresses)\n",
        "anonymizer.anonymize(\n",
        "    \"My name is Denny Gosh, call me at 324-455-5634 or email me at danny.sh@gmail.com\"\n",
        ")"
      ],
      "metadata": {
        "colab": {
          "base_uri": "https://localhost:8080/",
          "height": 36
        },
        "id": "2GC2uQvvB0Uc",
        "outputId": "0e3d85e9-cecb-45bd-f179-5b5158c926cb"
      },
      "execution_count": 28,
      "outputs": [
        {
          "output_type": "execute_result",
          "data": {
            "text/plain": [
              "'My name is Lisa Thompson, call me at 324-455-5634 or email me at danny.sh@gmail.com'"
            ],
            "application/vnd.google.colaboratory.intrinsic+json": {
              "type": "string"
            }
          },
          "metadata": {},
          "execution_count": 28
        }
      ]
    },
    {
      "cell_type": "markdown",
      "source": [
        "Initializing with Specific Data Type (PERSON)\n",
        "\n",
        "    The anonymizer = PresidioAnonymizer(analyzed_fields=[\"PERSON\"]) means that only names (recognized as PERSON entities) will be anonymized.\n",
        "\n",
        "    Other sensitive information, like phone numbers and emails, will remain unchanged.\n",
        "\n",
        "Processing the Text\n",
        "\n",
        "    The function scans the given text and replaces only the detected person's name while leaving other details as they are."
      ],
      "metadata": {
        "id": "UDxopIW4KyHh"
      }
    },
    {
      "cell_type": "code",
      "source": [
        "# Import Faker for generating fake data\n",
        "from faker import Faker\n",
        "\n",
        "# Initialize Faker with US locale (for generating fake data in English)\n",
        "fake = Faker(locale=\"en_US\")\n",
        "\n",
        "# Function to generate a fake number, accepting a parameter (ignored)\n",
        "def fake_number(_: str = None) -> str:\n",
        "    return str(fake.random.randint(1000, 5000))  # Generates a random number between 1000 and 5000\n",
        "\n",
        "# Import necessary modules for custom anonymization\n",
        "from presidio_anonymizer.entities import OperatorConfig\n",
        "from presidio_analyzer import PatternRecognizer, Pattern\n",
        "from langchain_experimental.data_anonymizer import PresidioAnonymizer\n",
        "\n",
        "# Initialize the Presidio anonymizer\n",
        "anonymizer = PresidioAnonymizer()\n",
        "\n",
        "# Define a custom pattern for recognizing repository numbers\n",
        "repo_number_pattern = Pattern(\n",
        "    name=\"repo_number_pattern\",\n",
        "    regex=r\"(?<=\\D)\\d{5}(?=\\D)\",  # Regular expression to match a 5-digit repo number\n",
        "    score=1  # Confidence score (1 means highly confident)\n",
        ")\n",
        "\n",
        "# Create a recognizer for repository numbers using the defined pattern\n",
        "repo_recognizer = PatternRecognizer(\n",
        "    supported_entity=\"REPO_NUMBER\",  # Label it as \"REPO_NUMBER\"\n",
        "    patterns=[repo_number_pattern]   # Use the pattern we defined\n",
        ")\n",
        "\n",
        "# Add the custom recognizer to the anonymizer\n",
        "anonymizer.add_recognizer(repo_recognizer)\n",
        "\n",
        "# Define a custom anonymization operator using the fake number generator\n",
        "new_operator = {\n",
        "    \"REPO_NUMBER\": OperatorConfig(\n",
        "        \"custom\", {\"lambda\": fake_number}  # Ensuring it generates a fake number\n",
        "    )\n",
        "}\n",
        "\n",
        "# Add the custom operator to the anonymizer\n",
        "anonymizer.add_operators(new_operator)\n",
        "\n",
        "# Anonymize a sample text containing a name, phone number, repo number, and email\n",
        "anonymized_text = anonymizer.anonymize(\n",
        "    \"My name is Denny Gosh, call me at 324-455-5634 and my repo number is 12434 and my email is real@Task.com\"\n",
        ")\n",
        "\n",
        "# Print the anonymized output\n",
        "print(anonymized_text)\n"
      ],
      "metadata": {
        "colab": {
          "base_uri": "https://localhost:8080/"
        },
        "id": "uNtpSyYBE72Q",
        "outputId": "f54e0643-3ad0-42c4-9f87-254b32781a4c"
      },
      "execution_count": 29,
      "outputs": [
        {
          "output_type": "stream",
          "name": "stdout",
          "text": [
            "My name is Lisa Martin, call me at 001-507-766-3333x4423 and my repo number is 1015 and my email is qmitchell@example.com\n"
          ]
        }
      ]
    },
    {
      "cell_type": "markdown",
      "source": [
        "Using Faker for Fake Data\n",
        "\n",
        "    We use the Faker library to generate random fake data, like fake numbers.\n",
        "    The function fake_number() generates a random number between 1000 and 5000.\n",
        "    Defining a Pattern for \"Repository Numbers\"\n",
        "\n",
        "    We create a custom pattern using regular expressions (regex) to detect 5-digit repository numbers (e.g., 12434).\n",
        "    We use this pattern inside PatternRecognizer, which tells the system to treat such numbers as \"REPO_NUMBER\".\n",
        "\n",
        "Adding a Custom Recognizer\n",
        "\n",
        "    Normally, Presidio detects things like names and emails. But here, we add our own rule to detect repo numbers.\n",
        "\n",
        "Anonymizing Repository Numbers with Fake Values\n",
        "\n",
        "    Instead of just hiding the repo number, we replace it with a random fake number using fake_number().\n",
        "    This ensures that our data stays consistent and anonymized.\n",
        "\n",
        "Anonymization in Action\n",
        "\n",
        "    The anonymizer.anonymize(...) function scans the input text and replaces:\n",
        "    Names → <PERSON>\n",
        "    Phone Numbers → <PHONE_NUMBER>\n",
        "    Emails → <EMAIL_ADDRESS>\n",
        "    Repo Numbers → Random fake number (e.g., 3875)"
      ],
      "metadata": {
        "id": "XVpu5aSjLq_Q"
      }
    },
    {
      "cell_type": "code",
      "source": [
        "# Import the reversible anonymizer from LangChain Experimental\n",
        "from langchain_experimental.data_anonymizer import PresidioReversibleAnonymizer\n",
        "\n",
        "# Initialize the reversible anonymizer correctly\n",
        "anonymizer = PresidioReversibleAnonymizer(\n",
        "    add_default_faker_operators=False  # Ensures Faker-generated fake data is not used automatically\n",
        ")\n",
        "\n",
        "# Anonymize a sample text containing PII (name, phone number, repo number, and email)\n",
        "anonymized_text = anonymizer.anonymize(\n",
        "    \"My name is Denny Gosh, call me at 324-455-5634 and my repo number is 12434 and my email is real@Task.com\"\n",
        ")\n",
        "\n",
        "# Print the anonymized output\n",
        "print(anonymized_text)"
      ],
      "metadata": {
        "colab": {
          "base_uri": "https://localhost:8080/"
        },
        "id": "leMPHow8FL6n",
        "outputId": "d40f1470-789b-4603-be5d-e54452356e02"
      },
      "execution_count": 30,
      "outputs": [
        {
          "output_type": "stream",
          "name": "stdout",
          "text": [
            "My name is <PERSON>, call me at <PHONE_NUMBER> and my repo number is <DATE_TIME> and my email is <EMAIL_ADDRESS>\n"
          ]
        }
      ]
    },
    {
      "cell_type": "markdown",
      "source": [
        "Reversible Anonymization\n",
        "\n",
        "    Unlike normal anonymization (where data is replaced permanently), reversible anonymization allows you to de-anonymize (restore original values if needed).\n",
        "    This is useful when you need to process anonymized data but later retrieve the original values.\n",
        "\n",
        "PresidioReversibleAnonymizer\n",
        "\n",
        "    This tool replaces personal information (PII) with unique placeholders while allowing you to restore the data later.\n",
        "\n",
        "What add_default_faker_operators=False Does\n",
        "\n",
        "    Normally, Faker generates random replacements (e.g., fake names, numbers).\n",
        "    Setting this to False means the original data is encoded uniquely instead of being replaced with random values.\n",
        "    This makes de-anonymization (restoring the original data) possible.\n",
        "\n",
        "Processing the Text\n",
        "\n",
        "    The anonymizer.anonymize(...) function detects sensitive details and replaces them with placeholders."
      ],
      "metadata": {
        "id": "IR_8atQFMD6L"
      }
    },
    {
      "cell_type": "code",
      "source": [
        "anonymizer.deanonymizer_mapping"
      ],
      "metadata": {
        "colab": {
          "base_uri": "https://localhost:8080/"
        },
        "id": "Y9frPOB7GF7e",
        "outputId": "8ea639c6-3f45-4a3e-f5a0-e7da7c279ffd"
      },
      "execution_count": 31,
      "outputs": [
        {
          "output_type": "execute_result",
          "data": {
            "text/plain": [
              "{'PERSON': {'<PERSON>': 'Denny Gosh'},\n",
              " 'PHONE_NUMBER': {'<PHONE_NUMBER>': '324-455-5634'},\n",
              " 'DATE_TIME': {'<DATE_TIME>': '12434'},\n",
              " 'EMAIL_ADDRESS': {'<EMAIL_ADDRESS>': 'real@Task.com'}}"
            ]
          },
          "metadata": {},
          "execution_count": 31
        }
      ]
    },
    {
      "cell_type": "code",
      "source": [
        "anonymizer.supported_languages"
      ],
      "metadata": {
        "colab": {
          "base_uri": "https://localhost:8080/"
        },
        "id": "qOSRuC3sHAaU",
        "outputId": "5e50a78b-8e7c-4350-a4c9-09ec41e2f3ae"
      },
      "execution_count": 32,
      "outputs": [
        {
          "output_type": "execute_result",
          "data": {
            "text/plain": [
              "['en']"
            ]
          },
          "metadata": {},
          "execution_count": 32
        }
      ]
    },
    {
      "cell_type": "markdown",
      "source": [
        "# Supported Fields that can be masked."
      ],
      "metadata": {
        "id": "BO3Dbl7bNxm4"
      }
    },
    {
      "cell_type": "markdown",
      "source": [
        "'PERSON', 'EMAIL_ADDRESS', 'PHONE_NUMBER', 'IBAN_CODE', 'CREDIT_CARD', 'CRYPTO', 'IP_ADDRESS', 'LOCATION', 'DATE_TIME', 'NRP', 'MEDICAL_LICENSE', 'URL', 'US_BANK_NUMBER', 'US_DRIVER_LICENSE', 'US_ITIN', 'US_PASSPORT', 'US_SSN'"
      ],
      "metadata": {
        "id": "PVGH-ldoHtem"
      }
    },
    {
      "cell_type": "markdown",
      "source": [
        "References, Data anonymization with Microsoft Presidio: http://python.langchain.com/v0.1/docs/guides/productionization/safety/presidio_data_anonymization/"
      ],
      "metadata": {
        "id": "IgD7AsvsN7Fy"
      }
    }
  ]
}